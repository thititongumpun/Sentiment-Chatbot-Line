{
 "cells": [
  {
   "cell_type": "code",
   "execution_count": 128,
   "id": "d8693493",
   "metadata": {},
   "outputs": [],
   "source": [
    "import emoji\n",
    "from pythainlp.ulmfit import *\n",
    "import pandas as pd\n",
    "import re\n",
    "from keras.preprocessing.text import Tokenizer\n",
    "from keras.preprocessing.sequence import pad_sequences\n",
    "from sklearn.preprocessing import OneHotEncoder\n",
    "from sklearn.model_selection import train_test_split\n",
    "import numpy as np\n",
    "from tensorflow.keras.layers import Dense, LSTM, Bidirectional, Embedding, Dropout, BatchNormalization, SpatialDropout1D\n",
    "from tensorflow.keras.models import load_model, Sequential\n",
    "from tensorflow.keras.callbacks import ModelCheckpoint, EarlyStopping\n",
    "from tensorflow.keras.optimizers import Adam\n",
    "# import seaborn as sn\n",
    "import matplotlib.pyplot as plt\n",
    "import pickle as p\n",
    "import plotly\n",
    "import plotly.graph_objs as go\n",
    "from plotly.subplots import make_subplots\n",
    "from sklearn.metrics import confusion_matrix, classification_report\n",
    "from pythainlp.util import normalize"
   ]
  },
  {
   "cell_type": "code",
   "execution_count": 129,
   "id": "ff84f33d",
   "metadata": {},
   "outputs": [],
   "source": [
    "data = pd.read_csv('./dataandpythai_V2.csv', sep=',')\n",
    "data = data.drop_duplicates(subset=['SentimentText', 'Sentiment'], keep=False)\n",
    "data = data.reset_index(drop=True)\n",
    "data = data[['SentimentText','Sentiment']]\n",
    "data['Sentiment'] = data['Sentiment'].map({0: 'Negative', 1: 'Neutral'})"
   ]
  },
  {
   "cell_type": "code",
   "execution_count": 130,
   "id": "aa386a49",
   "metadata": {},
   "outputs": [],
   "source": [
    "def text_process(text):\n",
    "    words = re.sub(r'[^ก-๙]', '', text)\n",
    "    words = normalize(words)\n",
    "    words = process_thai(words,\n",
    "                             pre_rules=[replace_rep_after, fix_html, rm_useless_spaces],\n",
    "                             post_rules=[ungroup_emoji,\n",
    "                             replace_wrep_post_nonum,\n",
    "                             remove_space]\n",
    "                          )\n",
    "    words = ' '.join(word for word in words)\n",
    "    return words\n",
    "data['SentimentText'] = data['SentimentText'].apply(text_process)\n",
    "nan_value = float(\"NaN\")\n",
    "data.replace(\"\", nan_value, inplace=True)\n",
    "data.dropna(subset = [\"SentimentText\"], inplace=True)"
   ]
  },
  {
   "cell_type": "code",
   "execution_count": 131,
   "id": "7e7202ed",
   "metadata": {},
   "outputs": [
    {
     "data": {
      "text/html": [
       "<div>\n",
       "<style scoped>\n",
       "    .dataframe tbody tr th:only-of-type {\n",
       "        vertical-align: middle;\n",
       "    }\n",
       "\n",
       "    .dataframe tbody tr th {\n",
       "        vertical-align: top;\n",
       "    }\n",
       "\n",
       "    .dataframe thead th {\n",
       "        text-align: right;\n",
       "    }\n",
       "</style>\n",
       "<table border=\"1\" class=\"dataframe\">\n",
       "  <thead>\n",
       "    <tr style=\"text-align: right;\">\n",
       "      <th></th>\n",
       "      <th>SentimentText</th>\n",
       "      <th>Sentiment</th>\n",
       "    </tr>\n",
       "  </thead>\n",
       "  <tbody>\n",
       "    <tr>\n",
       "      <th>0</th>\n",
       "      <td>สอบถาม หน่อย ค่ะ ส่ง ของ ไป ชุมพร ได้ ไหม คะ ง...</td>\n",
       "      <td>Neutral</td>\n",
       "    </tr>\n",
       "    <tr>\n",
       "      <th>1</th>\n",
       "      <td>เมนูหลัก</td>\n",
       "      <td>Neutral</td>\n",
       "    </tr>\n",
       "    <tr>\n",
       "      <th>2</th>\n",
       "      <td>ไม่ แย่</td>\n",
       "      <td>Neutral</td>\n",
       "    </tr>\n",
       "    <tr>\n",
       "      <th>5</th>\n",
       "      <td>พึงพอใจ มาก</td>\n",
       "      <td>Neutral</td>\n",
       "    </tr>\n",
       "    <tr>\n",
       "      <th>6</th>\n",
       "      <td>บริการ</td>\n",
       "      <td>Neutral</td>\n",
       "    </tr>\n",
       "  </tbody>\n",
       "</table>\n",
       "</div>"
      ],
      "text/plain": [
       "                                       SentimentText Sentiment\n",
       "0  สอบถาม หน่อย ค่ะ ส่ง ของ ไป ชุมพร ได้ ไหม คะ ง...   Neutral\n",
       "1                                           เมนูหลัก   Neutral\n",
       "2                                            ไม่ แย่   Neutral\n",
       "5                                        พึงพอใจ มาก   Neutral\n",
       "6                                             บริการ   Neutral"
      ]
     },
     "execution_count": 131,
     "metadata": {},
     "output_type": "execute_result"
    }
   ],
   "source": [
    "data.head()"
   ]
  },
  {
   "cell_type": "code",
   "execution_count": 132,
   "id": "266850f6",
   "metadata": {},
   "outputs": [
    {
     "name": "stdout",
     "output_type": "stream",
     "text": [
      "Neutral data in training: 20231\n",
      "negative data in training: 8622\n",
      "Neutral data in test: 5058\n",
      "negative data in test: 2156\n"
     ]
    }
   ],
   "source": [
    "from sklearn.utils import resample, shuffle\n",
    "\n",
    "data_majority = data[data['Sentiment'] == 'Neutral']\n",
    "data_minority = data[data['Sentiment'] == 'Negative']\n",
    "\n",
    "bias = data_minority.shape[0]/data_majority.shape[0]\n",
    "train = pd.concat([data_majority.sample(frac=0.8,random_state=200),\n",
    "         data_minority.sample(frac=0.8,random_state=200)])\n",
    "test = pd.concat([data_majority.drop(data_majority.sample(frac=0.8,random_state=200).index),\n",
    "        data_minority.drop(data_minority.sample(frac=0.8,random_state=200).index)])\n",
    "\n",
    "train = shuffle(train)\n",
    "test = shuffle(test)\n",
    "print('Neutral data in training:',(train.Sentiment == 'Neutral').sum())\n",
    "print('negative data in training:',(train.Sentiment == 'Negative').sum())\n",
    "print('Neutral data in test:',(test.Sentiment == 'Neutral').sum())\n",
    "print('negative data in test:',(test.Sentiment == 'Negative').sum())"
   ]
  },
  {
   "cell_type": "code",
   "execution_count": 133,
   "id": "75b8d7a2",
   "metadata": {},
   "outputs": [],
   "source": [
    "max_length = 484\n",
    "def create_tokenizer(words, filters = ''):\n",
    "    token = Tokenizer(filters=filters)\n",
    "    token.fit_on_texts(words)\n",
    "    return token\n",
    "def encoding_doc(token, words):\n",
    "    return(token.texts_to_sequences(words))\n",
    "def padding_doc(encoded_doc, max_length):\n",
    "    return(pad_sequences(encoded_doc, maxlen = max_length, padding = \"post\"))\n",
    "def one_hot(encode):\n",
    "    oh = OneHotEncoder(sparse = False)\n",
    "    return(oh.fit_transform(encode))"
   ]
  },
  {
   "cell_type": "code",
   "execution_count": 134,
   "id": "f43cce00",
   "metadata": {},
   "outputs": [
    {
     "name": "stdout",
     "output_type": "stream",
     "text": [
      "majority class before upsample: (20231, 2)\n",
      "minority class before upsample: (8622, 2)\n",
      "After upsampling\n",
      "Neutral     20231\n",
      "Negative    20231\n",
      "Name: Sentiment, dtype: int64\n"
     ]
    }
   ],
   "source": [
    "# Separate majority and minority classes in training data for upsampling \n",
    "data_majority = train[train['Sentiment'] == 'Neutral']\n",
    "data_minority = train[train['Sentiment'] == 'Negative']\n",
    "\n",
    "print(\"majority class before upsample:\",data_majority.shape)\n",
    "print(\"minority class before upsample:\",data_minority.shape)\n",
    "\n",
    "# Upsample minority class\n",
    "data_minority_upsampled = resample(data_minority, \n",
    "                                 replace=True,     # sample with replacement\n",
    "                                 n_samples= data_majority.shape[0],    # to match majority class\n",
    "                                 random_state=123) # reproducible results\n",
    " \n",
    "data_upsampled = pd.concat([data_majority, data_minority_upsampled])\n",
    "print(\"After upsampling\\n\",data_upsampled.Sentiment.value_counts(),sep = \"\")"
   ]
  },
  {
   "cell_type": "code",
   "execution_count": 135,
   "id": "7e58a24c",
   "metadata": {},
   "outputs": [],
   "source": [
    "train_word_tokenizer = create_tokenizer(data['SentimentText'])\n",
    "vocab_size = len(train_word_tokenizer.word_index) + 1\n",
    "encoded_doc = encoding_doc(train_word_tokenizer, data_upsampled['SentimentText'])\n",
    "unique_category = list(set(data_upsampled['Sentiment']))\n",
    "output_tokenizer = create_tokenizer(unique_category)\n",
    "encoded_output = encoding_doc(output_tokenizer, data_upsampled['Sentiment'])\n",
    "output_one_hot = one_hot(encoded_output)\n",
    "padded_doc = padding_doc(encoded_doc, max_length)"
   ]
  },
  {
   "cell_type": "code",
   "execution_count": 136,
   "id": "ede41dbf",
   "metadata": {},
   "outputs": [],
   "source": [
    "X_train, X_test, Y_train, Y_test = train_test_split(padded_doc, output_one_hot, test_size = 0.20, random_state = 42, shuffle=True, stratify=output_one_hot)\n",
    "num_classes = len(unique_category)"
   ]
  },
  {
   "cell_type": "code",
   "execution_count": 137,
   "id": "aebd0109",
   "metadata": {},
   "outputs": [],
   "source": [
    "adam = Adam(learning_rate=0.0001)\n",
    "def create_model(vocab_size, max_length):\n",
    "  model = Sequential()\n",
    "  model.add(Embedding(vocab_size, 128, input_length = max_length, trainable = True))\n",
    "  model.add(Bidirectional(LSTM(196), merge_mode='concat'))\n",
    "  model.add(Dense(128, activation = \"relu\"))\n",
    "  model.add(Dropout(0.4))\n",
    "  model.add(BatchNormalization())\n",
    "  model.add(Dense(num_classes, activation = \"softmax\"))\n",
    "  return model\n",
    "model = create_model(vocab_size, max_length)\n",
    "model.compile(loss = \"categorical_crossentropy\", optimizer = adam, metrics = [\"accuracy\"])"
   ]
  },
  {
   "cell_type": "code",
   "execution_count": 138,
   "id": "34c40575",
   "metadata": {},
   "outputs": [
    {
     "name": "stdout",
     "output_type": "stream",
     "text": [
      "Epoch 1/15\n",
      "253/253 [==============================] - ETA: 0s - loss: 1.2385 - accuracy: 0.6691\n",
      "Epoch 00001: val_loss improved from inf to 0.68570, saving model to .\\lstm2.h5\n",
      "253/253 [==============================] - 35s 125ms/step - loss: 1.2385 - accuracy: 0.6691 - val_loss: 0.6857 - val_accuracy: 0.5145\n",
      "Epoch 2/15\n",
      "253/253 [==============================] - ETA: 0s - loss: 0.7494 - accuracy: 0.7769\n",
      "Epoch 00002: val_loss improved from 0.68570 to 0.47050, saving model to .\\lstm2.h5\n",
      "253/253 [==============================] - 31s 122ms/step - loss: 0.7494 - accuracy: 0.7769 - val_loss: 0.4705 - val_accuracy: 0.7754\n",
      "Epoch 3/15\n",
      "253/253 [==============================] - ETA: 0s - loss: 0.5633 - accuracy: 0.8317\n",
      "Epoch 00003: val_loss improved from 0.47050 to 0.39558, saving model to .\\lstm2.h5\n",
      "253/253 [==============================] - 31s 122ms/step - loss: 0.5633 - accuracy: 0.8317 - val_loss: 0.3956 - val_accuracy: 0.8189\n",
      "Epoch 4/15\n",
      "253/253 [==============================] - ETA: 0s - loss: 0.4694 - accuracy: 0.8635\n",
      "Epoch 00004: val_loss did not improve from 0.39558\n",
      "253/253 [==============================] - 30s 120ms/step - loss: 0.4694 - accuracy: 0.8635 - val_loss: 0.5092 - val_accuracy: 0.7883\n",
      "Epoch 5/15\n",
      "253/253 [==============================] - ETA: 0s - loss: 0.4032 - accuracy: 0.8865\n",
      "Epoch 00005: val_loss improved from 0.39558 to 0.37751, saving model to .\\lstm2.h5\n",
      "253/253 [==============================] - 31s 121ms/step - loss: 0.4032 - accuracy: 0.8865 - val_loss: 0.3775 - val_accuracy: 0.8511\n",
      "Epoch 6/15\n",
      "253/253 [==============================] - ETA: 0s - loss: 0.3495 - accuracy: 0.9067\n",
      "Epoch 00006: val_loss did not improve from 0.37751\n",
      "253/253 [==============================] - 31s 123ms/step - loss: 0.3495 - accuracy: 0.9067 - val_loss: 0.4552 - val_accuracy: 0.8302\n",
      "Epoch 7/15\n",
      "253/253 [==============================] - ETA: 0s - loss: 0.3162 - accuracy: 0.9152\n",
      "Epoch 00007: val_loss improved from 0.37751 to 0.36778, saving model to .\\lstm2.h5\n",
      "253/253 [==============================] - 31s 122ms/step - loss: 0.3162 - accuracy: 0.9152 - val_loss: 0.3678 - val_accuracy: 0.8727\n",
      "Epoch 8/15\n",
      "253/253 [==============================] - ETA: 0s - loss: 0.2843 - accuracy: 0.9231\n",
      "Epoch 00008: val_loss did not improve from 0.36778\n",
      "253/253 [==============================] - 31s 121ms/step - loss: 0.2843 - accuracy: 0.9231 - val_loss: 0.4222 - val_accuracy: 0.8636\n",
      "Epoch 9/15\n",
      "253/253 [==============================] - ETA: 0s - loss: 0.2657 - accuracy: 0.9307\n",
      "Epoch 00009: val_loss did not improve from 0.36778\n",
      "253/253 [==============================] - 31s 122ms/step - loss: 0.2657 - accuracy: 0.9307 - val_loss: 0.4628 - val_accuracy: 0.8392\n",
      "Epoch 10/15\n",
      "253/253 [==============================] - ETA: 0s - loss: 0.2555 - accuracy: 0.9331\n",
      "Epoch 00010: val_loss did not improve from 0.36778\n",
      "253/253 [==============================] - 31s 122ms/step - loss: 0.2555 - accuracy: 0.9331 - val_loss: 0.4607 - val_accuracy: 0.8542\n",
      "Epoch 11/15\n",
      "253/253 [==============================] - ETA: 0s - loss: 0.2357 - accuracy: 0.9377\n",
      "Epoch 00011: val_loss did not improve from 0.36778\n",
      "253/253 [==============================] - 31s 121ms/step - loss: 0.2357 - accuracy: 0.9377 - val_loss: 0.4001 - val_accuracy: 0.8727\n",
      "Epoch 12/15\n",
      "253/253 [==============================] - ETA: 0s - loss: 0.2196 - accuracy: 0.9433\n",
      "Epoch 00012: val_loss did not improve from 0.36778\n",
      "253/253 [==============================] - 30s 119ms/step - loss: 0.2196 - accuracy: 0.9433 - val_loss: 0.3915 - val_accuracy: 0.8824\n",
      "Epoch 13/15\n",
      "253/253 [==============================] - ETA: 0s - loss: 0.2049 - accuracy: 0.9462 ETA: 0s - loss: 0.2039 - ac\n",
      "Epoch 00013: val_loss did not improve from 0.36778\n",
      "253/253 [==============================] - 30s 117ms/step - loss: 0.2049 - accuracy: 0.9462 - val_loss: 0.4025 - val_accuracy: 0.8821\n",
      "Epoch 14/15\n",
      "253/253 [==============================] - ETA: 0s - loss: 0.1981 - accuracy: 0.9484\n",
      "Epoch 00014: val_loss did not improve from 0.36778\n",
      "253/253 [==============================] - 31s 123ms/step - loss: 0.1981 - accuracy: 0.9484 - val_loss: 0.4329 - val_accuracy: 0.8779\n",
      "Epoch 15/15\n",
      "253/253 [==============================] - ETA: 0s - loss: 0.1997 - accuracy: 0.9487\n",
      "Epoch 00015: val_loss did not improve from 0.36778\n",
      "253/253 [==============================] - 31s 122ms/step - loss: 0.1997 - accuracy: 0.9487 - val_loss: 0.4528 - val_accuracy: 0.8772\n",
      "463.62334418296814\n"
     ]
    }
   ],
   "source": [
    "from time import time\n",
    "start = time()\n",
    "EPOCHS = 15\n",
    "BS = 128\n",
    "filename = './lstm2.h5'\n",
    "es = EarlyStopping(monitor='val_loss', mode='min', verbose=1, patience=4)\n",
    "checkpoint = ModelCheckpoint(filename, monitor='val_loss', verbose=1, save_best_only=True, mode='min')\n",
    "class_weights = {0: 1, 1: 1.6/bias }\n",
    "hist = model.fit(X_train, Y_train, epochs = EPOCHS, batch_size = BS, validation_data = (X_test, Y_test), callbacks=[checkpoint, es], class_weight=class_weights)\n",
    "print(time()-start)"
   ]
  },
  {
   "cell_type": "code",
   "execution_count": 139,
   "id": "2427fe29",
   "metadata": {},
   "outputs": [
    {
     "name": "stdout",
     "output_type": "stream",
     "text": [
      "Validate loss: 0.3677820563316345\n",
      "Validate accuracy: 0.8727295398712158\n"
     ]
    }
   ],
   "source": [
    "predict_model = load_model(filename) \n",
    "score = predict_model.evaluate(X_test, Y_test, verbose=0)\n",
    "print('Validate loss:', score[0])\n",
    "print('Validate accuracy:', score[1])"
   ]
  },
  {
   "cell_type": "code",
   "execution_count": 161,
   "id": "be92d734",
   "metadata": {},
   "outputs": [],
   "source": [
    "def predictions(text):\n",
    "  text = normalize(text)  \n",
    "  test_word = process_thai(text,\n",
    "                             pre_rules=[replace_rep_after, fix_html, rm_useless_spaces],\n",
    "                             post_rules=[ungroup_emoji,\n",
    "                             replace_wrep_post_nonum,\n",
    "                             remove_space]\n",
    "                          )\n",
    "  test_ls = train_word_tokenizer.texts_to_sequences(test_word)\n",
    "  print(test_word)\n",
    "  if [] in test_ls:\n",
    "    test_ls = list(filter(None, test_ls))\n",
    "  test_ls = np.array(test_ls).reshape(1, len(test_ls))\n",
    "  x = padding_doc(test_ls, max_length)\n",
    "  pred = predict_model.predict(x)\n",
    "  return pred\n",
    "\n",
    "def get_final_output(pred, classes):\n",
    "  predictions = pred[0]\n",
    "  classes = np.array(classes)\n",
    "  ids = np.argsort(-predictions)\n",
    "  classes = classes[ids]\n",
    "  predictions = -np.sort(-predictions)\n",
    "  for i in range(pred.shape[1]):\n",
    "    print(\"%s has confidence = %s\" % (classes[i], (predictions[i])))\n",
    "    return classes[i], predictions[i]"
   ]
  },
  {
   "cell_type": "code",
   "execution_count": 178,
   "id": "9d4a8088",
   "metadata": {},
   "outputs": [
    {
     "name": "stdout",
     "output_type": "stream",
     "text": [
      "['สั่งของ', 'จาก', 'ช็อป', 'ปี้', 'กี่', 'บาท']\n",
      "Neutral has confidence = 0.84231126\n"
     ]
    },
    {
     "data": {
      "text/plain": [
       "('Neutral', 0.84231126)"
      ]
     },
     "execution_count": 178,
     "metadata": {},
     "output_type": "execute_result"
    }
   ],
   "source": [
    "text = 'สั่งของจากช็อปปี้กี่บาท'\n",
    "# text = 'ห่วยแตกกกก'\n",
    "pred = predictions(text)\n",
    "res = get_final_output(pred, unique_category)\n",
    "res"
   ]
  },
  {
   "cell_type": "code",
   "execution_count": 142,
   "id": "c65ded02",
   "metadata": {},
   "outputs": [
    {
     "name": "stdout",
     "output_type": "stream",
     "text": [
      "              precision    recall  f1-score   support\n",
      "\n",
      "    negative     0.8873    0.8539    0.8703      4046\n",
      "     neutral     0.8593    0.8915    0.8751      4047\n",
      "\n",
      "    accuracy                         0.8727      8093\n",
      "   macro avg     0.8733    0.8727    0.8727      8093\n",
      "weighted avg     0.8733    0.8727    0.8727      8093\n",
      "\n"
     ]
    }
   ],
   "source": [
    "predicted_classes = np.argmax(predict_model.predict(X_test), axis=-1)\n",
    "y_true = np.argmax(Y_test,axis = 1)\n",
    "label_dict = output_tokenizer.word_index\n",
    "label = [key for key, value in label_dict.items()]\n",
    "print(classification_report(y_true, predicted_classes, target_names=label, digits=4))"
   ]
  },
  {
   "cell_type": "code",
   "execution_count": 143,
   "id": "d271f45d",
   "metadata": {},
   "outputs": [],
   "source": [
    "with open('history_model', 'wb') as file:\n",
    "    p.dump(hist.history, file)\n",
    "\n",
    "with open('history_model', 'rb') as file:\n",
    "    his = p.load(file)"
   ]
  },
  {
   "cell_type": "code",
   "execution_count": 144,
   "id": "2450a4f1",
   "metadata": {},
   "outputs": [
    {
     "data": {
      "application/vnd.plotly.v1+json": {
       "config": {
        "linkText": "Export to plot.ly",
        "plotlyServerURL": "https://plot.ly",
        "showLink": false
       },
       "data": [
        {
         "marker": {
          "color": "Green"
         },
         "mode": "markers+lines",
         "name": "Training accuracy",
         "text": [
          "1",
          "2",
          "3",
          "4",
          "5",
          "6",
          "7",
          "8",
          "9",
          "10",
          "11",
          "12",
          "13",
          "14",
          "15"
         ],
         "type": "scatter",
         "x": [
          1,
          2,
          3,
          4,
          5,
          6,
          7,
          8,
          9,
          10,
          11,
          12,
          13,
          14,
          15
         ],
         "xaxis": "x",
         "y": [
          0.6690969467163086,
          0.776854395866394,
          0.831690788269043,
          0.8634805083274841,
          0.886496365070343,
          0.9067317247390747,
          0.9152275323867798,
          0.9231054186820984,
          0.9307053089141846,
          0.9330841302871704,
          0.9377182126045227,
          0.9432790875434875,
          0.9462448358535767,
          0.9483765363693237,
          0.9487472772598267
         ],
         "yaxis": "y"
        },
        {
         "marker": {
          "color": "Red"
         },
         "mode": "markers+lines",
         "name": "Validation accuracy",
         "text": [
          "1",
          "2",
          "3",
          "4",
          "5",
          "6",
          "7",
          "8",
          "9",
          "10",
          "11",
          "12",
          "13",
          "14",
          "15"
         ],
         "type": "scatter",
         "x": [
          1,
          2,
          3,
          4,
          5,
          6,
          7,
          8,
          9,
          10,
          11,
          12,
          13,
          14,
          15
         ],
         "xaxis": "x",
         "y": [
          0.5145187377929688,
          0.7753614187240601,
          0.8188558220863342,
          0.7883356213569641,
          0.8511058688163757,
          0.8302236795425415,
          0.8727295398712158,
          0.8635858297348022,
          0.8392437696456909,
          0.8541949987411499,
          0.8727295398712158,
          0.8823674917221069,
          0.8821203708648682,
          0.8779191970825195,
          0.8771778345108032
         ],
         "yaxis": "y"
        },
        {
         "marker": {
          "color": "Blue"
         },
         "mode": "markers+lines",
         "name": "Training loss",
         "text": [
          "1",
          "2",
          "3",
          "4",
          "5",
          "6",
          "7",
          "8",
          "9",
          "10",
          "11",
          "12",
          "13",
          "14",
          "15"
         ],
         "type": "scatter",
         "x": [
          1,
          2,
          3,
          4,
          5,
          6,
          7,
          8,
          9,
          10,
          11,
          12,
          13,
          14,
          15
         ],
         "xaxis": "x2",
         "y": [
          1.2384976148605347,
          0.7494156956672668,
          0.5632674694061279,
          0.4694262444972992,
          0.4032342731952667,
          0.34946390986442566,
          0.31622999906539917,
          0.2843293249607086,
          0.2656826376914978,
          0.25552019476890564,
          0.2357022613286972,
          0.21961615979671478,
          0.2049444168806076,
          0.1981247067451477,
          0.19972003996372223
         ],
         "yaxis": "y2"
        },
        {
         "marker": {
          "color": "Magenta"
         },
         "mode": "markers+lines",
         "name": "Validation loss",
         "text": [
          "1",
          "2",
          "3",
          "4",
          "5",
          "6",
          "7",
          "8",
          "9",
          "10",
          "11",
          "12",
          "13",
          "14",
          "15"
         ],
         "type": "scatter",
         "x": [
          1,
          2,
          3,
          4,
          5,
          6,
          7,
          8,
          9,
          10,
          11,
          12,
          13,
          14,
          15
         ],
         "xaxis": "x2",
         "y": [
          0.6857015490531921,
          0.4704965054988861,
          0.39557623863220215,
          0.5091769099235535,
          0.37751469016075134,
          0.4551660120487213,
          0.36778199672698975,
          0.4222469627857208,
          0.4627828299999237,
          0.4606766104698181,
          0.40008410811424255,
          0.39147377014160156,
          0.4025075137615204,
          0.43290507793426514,
          0.45281535387039185
         ],
         "yaxis": "y2"
        }
       ],
       "layout": {
        "annotations": [
         {
          "font": {
           "size": 16
          },
          "showarrow": false,
          "text": "Training and validation accuracy",
          "x": 0.225,
          "xanchor": "center",
          "xref": "paper",
          "y": 1,
          "yanchor": "bottom",
          "yref": "paper"
         },
         {
          "font": {
           "size": 16
          },
          "showarrow": false,
          "text": "Training and validation loss",
          "x": 0.775,
          "xanchor": "center",
          "xref": "paper",
          "y": 1,
          "yanchor": "bottom",
          "yref": "paper"
         }
        ],
        "template": {
         "data": {
          "bar": [
           {
            "error_x": {
             "color": "#2a3f5f"
            },
            "error_y": {
             "color": "#2a3f5f"
            },
            "marker": {
             "line": {
              "color": "#E5ECF6",
              "width": 0.5
             },
             "pattern": {
              "fillmode": "overlay",
              "size": 10,
              "solidity": 0.2
             }
            },
            "type": "bar"
           }
          ],
          "barpolar": [
           {
            "marker": {
             "line": {
              "color": "#E5ECF6",
              "width": 0.5
             },
             "pattern": {
              "fillmode": "overlay",
              "size": 10,
              "solidity": 0.2
             }
            },
            "type": "barpolar"
           }
          ],
          "carpet": [
           {
            "aaxis": {
             "endlinecolor": "#2a3f5f",
             "gridcolor": "white",
             "linecolor": "white",
             "minorgridcolor": "white",
             "startlinecolor": "#2a3f5f"
            },
            "baxis": {
             "endlinecolor": "#2a3f5f",
             "gridcolor": "white",
             "linecolor": "white",
             "minorgridcolor": "white",
             "startlinecolor": "#2a3f5f"
            },
            "type": "carpet"
           }
          ],
          "choropleth": [
           {
            "colorbar": {
             "outlinewidth": 0,
             "ticks": ""
            },
            "type": "choropleth"
           }
          ],
          "contour": [
           {
            "colorbar": {
             "outlinewidth": 0,
             "ticks": ""
            },
            "colorscale": [
             [
              0,
              "#0d0887"
             ],
             [
              0.1111111111111111,
              "#46039f"
             ],
             [
              0.2222222222222222,
              "#7201a8"
             ],
             [
              0.3333333333333333,
              "#9c179e"
             ],
             [
              0.4444444444444444,
              "#bd3786"
             ],
             [
              0.5555555555555556,
              "#d8576b"
             ],
             [
              0.6666666666666666,
              "#ed7953"
             ],
             [
              0.7777777777777778,
              "#fb9f3a"
             ],
             [
              0.8888888888888888,
              "#fdca26"
             ],
             [
              1,
              "#f0f921"
             ]
            ],
            "type": "contour"
           }
          ],
          "contourcarpet": [
           {
            "colorbar": {
             "outlinewidth": 0,
             "ticks": ""
            },
            "type": "contourcarpet"
           }
          ],
          "heatmap": [
           {
            "colorbar": {
             "outlinewidth": 0,
             "ticks": ""
            },
            "colorscale": [
             [
              0,
              "#0d0887"
             ],
             [
              0.1111111111111111,
              "#46039f"
             ],
             [
              0.2222222222222222,
              "#7201a8"
             ],
             [
              0.3333333333333333,
              "#9c179e"
             ],
             [
              0.4444444444444444,
              "#bd3786"
             ],
             [
              0.5555555555555556,
              "#d8576b"
             ],
             [
              0.6666666666666666,
              "#ed7953"
             ],
             [
              0.7777777777777778,
              "#fb9f3a"
             ],
             [
              0.8888888888888888,
              "#fdca26"
             ],
             [
              1,
              "#f0f921"
             ]
            ],
            "type": "heatmap"
           }
          ],
          "heatmapgl": [
           {
            "colorbar": {
             "outlinewidth": 0,
             "ticks": ""
            },
            "colorscale": [
             [
              0,
              "#0d0887"
             ],
             [
              0.1111111111111111,
              "#46039f"
             ],
             [
              0.2222222222222222,
              "#7201a8"
             ],
             [
              0.3333333333333333,
              "#9c179e"
             ],
             [
              0.4444444444444444,
              "#bd3786"
             ],
             [
              0.5555555555555556,
              "#d8576b"
             ],
             [
              0.6666666666666666,
              "#ed7953"
             ],
             [
              0.7777777777777778,
              "#fb9f3a"
             ],
             [
              0.8888888888888888,
              "#fdca26"
             ],
             [
              1,
              "#f0f921"
             ]
            ],
            "type": "heatmapgl"
           }
          ],
          "histogram": [
           {
            "marker": {
             "pattern": {
              "fillmode": "overlay",
              "size": 10,
              "solidity": 0.2
             }
            },
            "type": "histogram"
           }
          ],
          "histogram2d": [
           {
            "colorbar": {
             "outlinewidth": 0,
             "ticks": ""
            },
            "colorscale": [
             [
              0,
              "#0d0887"
             ],
             [
              0.1111111111111111,
              "#46039f"
             ],
             [
              0.2222222222222222,
              "#7201a8"
             ],
             [
              0.3333333333333333,
              "#9c179e"
             ],
             [
              0.4444444444444444,
              "#bd3786"
             ],
             [
              0.5555555555555556,
              "#d8576b"
             ],
             [
              0.6666666666666666,
              "#ed7953"
             ],
             [
              0.7777777777777778,
              "#fb9f3a"
             ],
             [
              0.8888888888888888,
              "#fdca26"
             ],
             [
              1,
              "#f0f921"
             ]
            ],
            "type": "histogram2d"
           }
          ],
          "histogram2dcontour": [
           {
            "colorbar": {
             "outlinewidth": 0,
             "ticks": ""
            },
            "colorscale": [
             [
              0,
              "#0d0887"
             ],
             [
              0.1111111111111111,
              "#46039f"
             ],
             [
              0.2222222222222222,
              "#7201a8"
             ],
             [
              0.3333333333333333,
              "#9c179e"
             ],
             [
              0.4444444444444444,
              "#bd3786"
             ],
             [
              0.5555555555555556,
              "#d8576b"
             ],
             [
              0.6666666666666666,
              "#ed7953"
             ],
             [
              0.7777777777777778,
              "#fb9f3a"
             ],
             [
              0.8888888888888888,
              "#fdca26"
             ],
             [
              1,
              "#f0f921"
             ]
            ],
            "type": "histogram2dcontour"
           }
          ],
          "mesh3d": [
           {
            "colorbar": {
             "outlinewidth": 0,
             "ticks": ""
            },
            "type": "mesh3d"
           }
          ],
          "parcoords": [
           {
            "line": {
             "colorbar": {
              "outlinewidth": 0,
              "ticks": ""
             }
            },
            "type": "parcoords"
           }
          ],
          "pie": [
           {
            "automargin": true,
            "type": "pie"
           }
          ],
          "scatter": [
           {
            "marker": {
             "colorbar": {
              "outlinewidth": 0,
              "ticks": ""
             }
            },
            "type": "scatter"
           }
          ],
          "scatter3d": [
           {
            "line": {
             "colorbar": {
              "outlinewidth": 0,
              "ticks": ""
             }
            },
            "marker": {
             "colorbar": {
              "outlinewidth": 0,
              "ticks": ""
             }
            },
            "type": "scatter3d"
           }
          ],
          "scattercarpet": [
           {
            "marker": {
             "colorbar": {
              "outlinewidth": 0,
              "ticks": ""
             }
            },
            "type": "scattercarpet"
           }
          ],
          "scattergeo": [
           {
            "marker": {
             "colorbar": {
              "outlinewidth": 0,
              "ticks": ""
             }
            },
            "type": "scattergeo"
           }
          ],
          "scattergl": [
           {
            "marker": {
             "colorbar": {
              "outlinewidth": 0,
              "ticks": ""
             }
            },
            "type": "scattergl"
           }
          ],
          "scattermapbox": [
           {
            "marker": {
             "colorbar": {
              "outlinewidth": 0,
              "ticks": ""
             }
            },
            "type": "scattermapbox"
           }
          ],
          "scatterpolar": [
           {
            "marker": {
             "colorbar": {
              "outlinewidth": 0,
              "ticks": ""
             }
            },
            "type": "scatterpolar"
           }
          ],
          "scatterpolargl": [
           {
            "marker": {
             "colorbar": {
              "outlinewidth": 0,
              "ticks": ""
             }
            },
            "type": "scatterpolargl"
           }
          ],
          "scatterternary": [
           {
            "marker": {
             "colorbar": {
              "outlinewidth": 0,
              "ticks": ""
             }
            },
            "type": "scatterternary"
           }
          ],
          "surface": [
           {
            "colorbar": {
             "outlinewidth": 0,
             "ticks": ""
            },
            "colorscale": [
             [
              0,
              "#0d0887"
             ],
             [
              0.1111111111111111,
              "#46039f"
             ],
             [
              0.2222222222222222,
              "#7201a8"
             ],
             [
              0.3333333333333333,
              "#9c179e"
             ],
             [
              0.4444444444444444,
              "#bd3786"
             ],
             [
              0.5555555555555556,
              "#d8576b"
             ],
             [
              0.6666666666666666,
              "#ed7953"
             ],
             [
              0.7777777777777778,
              "#fb9f3a"
             ],
             [
              0.8888888888888888,
              "#fdca26"
             ],
             [
              1,
              "#f0f921"
             ]
            ],
            "type": "surface"
           }
          ],
          "table": [
           {
            "cells": {
             "fill": {
              "color": "#EBF0F8"
             },
             "line": {
              "color": "white"
             }
            },
            "header": {
             "fill": {
              "color": "#C8D4E3"
             },
             "line": {
              "color": "white"
             }
            },
            "type": "table"
           }
          ]
         },
         "layout": {
          "annotationdefaults": {
           "arrowcolor": "#2a3f5f",
           "arrowhead": 0,
           "arrowwidth": 1
          },
          "autotypenumbers": "strict",
          "coloraxis": {
           "colorbar": {
            "outlinewidth": 0,
            "ticks": ""
           }
          },
          "colorscale": {
           "diverging": [
            [
             0,
             "#8e0152"
            ],
            [
             0.1,
             "#c51b7d"
            ],
            [
             0.2,
             "#de77ae"
            ],
            [
             0.3,
             "#f1b6da"
            ],
            [
             0.4,
             "#fde0ef"
            ],
            [
             0.5,
             "#f7f7f7"
            ],
            [
             0.6,
             "#e6f5d0"
            ],
            [
             0.7,
             "#b8e186"
            ],
            [
             0.8,
             "#7fbc41"
            ],
            [
             0.9,
             "#4d9221"
            ],
            [
             1,
             "#276419"
            ]
           ],
           "sequential": [
            [
             0,
             "#0d0887"
            ],
            [
             0.1111111111111111,
             "#46039f"
            ],
            [
             0.2222222222222222,
             "#7201a8"
            ],
            [
             0.3333333333333333,
             "#9c179e"
            ],
            [
             0.4444444444444444,
             "#bd3786"
            ],
            [
             0.5555555555555556,
             "#d8576b"
            ],
            [
             0.6666666666666666,
             "#ed7953"
            ],
            [
             0.7777777777777778,
             "#fb9f3a"
            ],
            [
             0.8888888888888888,
             "#fdca26"
            ],
            [
             1,
             "#f0f921"
            ]
           ],
           "sequentialminus": [
            [
             0,
             "#0d0887"
            ],
            [
             0.1111111111111111,
             "#46039f"
            ],
            [
             0.2222222222222222,
             "#7201a8"
            ],
            [
             0.3333333333333333,
             "#9c179e"
            ],
            [
             0.4444444444444444,
             "#bd3786"
            ],
            [
             0.5555555555555556,
             "#d8576b"
            ],
            [
             0.6666666666666666,
             "#ed7953"
            ],
            [
             0.7777777777777778,
             "#fb9f3a"
            ],
            [
             0.8888888888888888,
             "#fdca26"
            ],
            [
             1,
             "#f0f921"
            ]
           ]
          },
          "colorway": [
           "#636efa",
           "#EF553B",
           "#00cc96",
           "#ab63fa",
           "#FFA15A",
           "#19d3f3",
           "#FF6692",
           "#B6E880",
           "#FF97FF",
           "#FECB52"
          ],
          "font": {
           "color": "#2a3f5f"
          },
          "geo": {
           "bgcolor": "white",
           "lakecolor": "white",
           "landcolor": "#E5ECF6",
           "showlakes": true,
           "showland": true,
           "subunitcolor": "white"
          },
          "hoverlabel": {
           "align": "left"
          },
          "hovermode": "closest",
          "mapbox": {
           "style": "light"
          },
          "paper_bgcolor": "white",
          "plot_bgcolor": "#E5ECF6",
          "polar": {
           "angularaxis": {
            "gridcolor": "white",
            "linecolor": "white",
            "ticks": ""
           },
           "bgcolor": "#E5ECF6",
           "radialaxis": {
            "gridcolor": "white",
            "linecolor": "white",
            "ticks": ""
           }
          },
          "scene": {
           "xaxis": {
            "backgroundcolor": "#E5ECF6",
            "gridcolor": "white",
            "gridwidth": 2,
            "linecolor": "white",
            "showbackground": true,
            "ticks": "",
            "zerolinecolor": "white"
           },
           "yaxis": {
            "backgroundcolor": "#E5ECF6",
            "gridcolor": "white",
            "gridwidth": 2,
            "linecolor": "white",
            "showbackground": true,
            "ticks": "",
            "zerolinecolor": "white"
           },
           "zaxis": {
            "backgroundcolor": "#E5ECF6",
            "gridcolor": "white",
            "gridwidth": 2,
            "linecolor": "white",
            "showbackground": true,
            "ticks": "",
            "zerolinecolor": "white"
           }
          },
          "shapedefaults": {
           "line": {
            "color": "#2a3f5f"
           }
          },
          "ternary": {
           "aaxis": {
            "gridcolor": "white",
            "linecolor": "white",
            "ticks": ""
           },
           "baxis": {
            "gridcolor": "white",
            "linecolor": "white",
            "ticks": ""
           },
           "bgcolor": "#E5ECF6",
           "caxis": {
            "gridcolor": "white",
            "linecolor": "white",
            "ticks": ""
           }
          },
          "title": {
           "x": 0.05
          },
          "xaxis": {
           "automargin": true,
           "gridcolor": "white",
           "linecolor": "white",
           "ticks": "",
           "title": {
            "standoff": 15
           },
           "zerolinecolor": "white",
           "zerolinewidth": 2
          },
          "yaxis": {
           "automargin": true,
           "gridcolor": "white",
           "linecolor": "white",
           "ticks": "",
           "title": {
            "standoff": 15
           },
           "zerolinecolor": "white",
           "zerolinewidth": 2
          }
         }
        },
        "xaxis": {
         "anchor": "y",
         "domain": [
          0,
          0.45
         ],
         "title": {
          "text": "Epoch"
         }
        },
        "xaxis2": {
         "anchor": "y2",
         "domain": [
          0.55,
          1
         ],
         "title": {
          "text": "Epoch"
         }
        },
        "yaxis": {
         "anchor": "x",
         "domain": [
          0,
          1
         ],
         "range": [
          0,
          1
         ],
         "title": {
          "text": "Accuracy"
         }
        },
        "yaxis2": {
         "anchor": "x2",
         "domain": [
          0,
          1
         ],
         "range": [
          0,
          1
         ],
         "title": {
          "text": "Loss"
         }
        }
       }
      },
      "text/html": [
       "<div>                            <div id=\"57372647-7cb8-4663-866c-44e5a7e25891\" class=\"plotly-graph-div\" style=\"height:525px; width:100%;\"></div>            <script type=\"text/javascript\">                require([\"plotly\"], function(Plotly) {                    window.PLOTLYENV=window.PLOTLYENV || {};                                    if (document.getElementById(\"57372647-7cb8-4663-866c-44e5a7e25891\")) {                    Plotly.newPlot(                        \"57372647-7cb8-4663-866c-44e5a7e25891\",                        [{\"marker\":{\"color\":\"Green\"},\"mode\":\"markers+lines\",\"name\":\"Training accuracy\",\"text\":[\"1\",\"2\",\"3\",\"4\",\"5\",\"6\",\"7\",\"8\",\"9\",\"10\",\"11\",\"12\",\"13\",\"14\",\"15\"],\"x\":[1,2,3,4,5,6,7,8,9,10,11,12,13,14,15],\"xaxis\":\"x\",\"y\":[0.6690969467163086,0.776854395866394,0.831690788269043,0.8634805083274841,0.886496365070343,0.9067317247390747,0.9152275323867798,0.9231054186820984,0.9307053089141846,0.9330841302871704,0.9377182126045227,0.9432790875434875,0.9462448358535767,0.9483765363693237,0.9487472772598267],\"yaxis\":\"y\",\"type\":\"scatter\"},{\"marker\":{\"color\":\"Red\"},\"mode\":\"markers+lines\",\"name\":\"Validation accuracy\",\"text\":[\"1\",\"2\",\"3\",\"4\",\"5\",\"6\",\"7\",\"8\",\"9\",\"10\",\"11\",\"12\",\"13\",\"14\",\"15\"],\"x\":[1,2,3,4,5,6,7,8,9,10,11,12,13,14,15],\"xaxis\":\"x\",\"y\":[0.5145187377929688,0.7753614187240601,0.8188558220863342,0.7883356213569641,0.8511058688163757,0.8302236795425415,0.8727295398712158,0.8635858297348022,0.8392437696456909,0.8541949987411499,0.8727295398712158,0.8823674917221069,0.8821203708648682,0.8779191970825195,0.8771778345108032],\"yaxis\":\"y\",\"type\":\"scatter\"},{\"marker\":{\"color\":\"Blue\"},\"mode\":\"markers+lines\",\"name\":\"Training loss\",\"text\":[\"1\",\"2\",\"3\",\"4\",\"5\",\"6\",\"7\",\"8\",\"9\",\"10\",\"11\",\"12\",\"13\",\"14\",\"15\"],\"x\":[1,2,3,4,5,6,7,8,9,10,11,12,13,14,15],\"xaxis\":\"x2\",\"y\":[1.2384976148605347,0.7494156956672668,0.5632674694061279,0.4694262444972992,0.4032342731952667,0.34946390986442566,0.31622999906539917,0.2843293249607086,0.2656826376914978,0.25552019476890564,0.2357022613286972,0.21961615979671478,0.2049444168806076,0.1981247067451477,0.19972003996372223],\"yaxis\":\"y2\",\"type\":\"scatter\"},{\"marker\":{\"color\":\"Magenta\"},\"mode\":\"markers+lines\",\"name\":\"Validation loss\",\"text\":[\"1\",\"2\",\"3\",\"4\",\"5\",\"6\",\"7\",\"8\",\"9\",\"10\",\"11\",\"12\",\"13\",\"14\",\"15\"],\"x\":[1,2,3,4,5,6,7,8,9,10,11,12,13,14,15],\"xaxis\":\"x2\",\"y\":[0.6857015490531921,0.4704965054988861,0.39557623863220215,0.5091769099235535,0.37751469016075134,0.4551660120487213,0.36778199672698975,0.4222469627857208,0.4627828299999237,0.4606766104698181,0.40008410811424255,0.39147377014160156,0.4025075137615204,0.43290507793426514,0.45281535387039185],\"yaxis\":\"y2\",\"type\":\"scatter\"}],                        {\"annotations\":[{\"font\":{\"size\":16},\"showarrow\":false,\"text\":\"Training and validation accuracy\",\"x\":0.225,\"xanchor\":\"center\",\"xref\":\"paper\",\"y\":1.0,\"yanchor\":\"bottom\",\"yref\":\"paper\"},{\"font\":{\"size\":16},\"showarrow\":false,\"text\":\"Training and validation loss\",\"x\":0.775,\"xanchor\":\"center\",\"xref\":\"paper\",\"y\":1.0,\"yanchor\":\"bottom\",\"yref\":\"paper\"}],\"template\":{\"data\":{\"barpolar\":[{\"marker\":{\"line\":{\"color\":\"#E5ECF6\",\"width\":0.5},\"pattern\":{\"fillmode\":\"overlay\",\"size\":10,\"solidity\":0.2}},\"type\":\"barpolar\"}],\"bar\":[{\"error_x\":{\"color\":\"#2a3f5f\"},\"error_y\":{\"color\":\"#2a3f5f\"},\"marker\":{\"line\":{\"color\":\"#E5ECF6\",\"width\":0.5},\"pattern\":{\"fillmode\":\"overlay\",\"size\":10,\"solidity\":0.2}},\"type\":\"bar\"}],\"carpet\":[{\"aaxis\":{\"endlinecolor\":\"#2a3f5f\",\"gridcolor\":\"white\",\"linecolor\":\"white\",\"minorgridcolor\":\"white\",\"startlinecolor\":\"#2a3f5f\"},\"baxis\":{\"endlinecolor\":\"#2a3f5f\",\"gridcolor\":\"white\",\"linecolor\":\"white\",\"minorgridcolor\":\"white\",\"startlinecolor\":\"#2a3f5f\"},\"type\":\"carpet\"}],\"choropleth\":[{\"colorbar\":{\"outlinewidth\":0,\"ticks\":\"\"},\"type\":\"choropleth\"}],\"contourcarpet\":[{\"colorbar\":{\"outlinewidth\":0,\"ticks\":\"\"},\"type\":\"contourcarpet\"}],\"contour\":[{\"colorbar\":{\"outlinewidth\":0,\"ticks\":\"\"},\"colorscale\":[[0.0,\"#0d0887\"],[0.1111111111111111,\"#46039f\"],[0.2222222222222222,\"#7201a8\"],[0.3333333333333333,\"#9c179e\"],[0.4444444444444444,\"#bd3786\"],[0.5555555555555556,\"#d8576b\"],[0.6666666666666666,\"#ed7953\"],[0.7777777777777778,\"#fb9f3a\"],[0.8888888888888888,\"#fdca26\"],[1.0,\"#f0f921\"]],\"type\":\"contour\"}],\"heatmapgl\":[{\"colorbar\":{\"outlinewidth\":0,\"ticks\":\"\"},\"colorscale\":[[0.0,\"#0d0887\"],[0.1111111111111111,\"#46039f\"],[0.2222222222222222,\"#7201a8\"],[0.3333333333333333,\"#9c179e\"],[0.4444444444444444,\"#bd3786\"],[0.5555555555555556,\"#d8576b\"],[0.6666666666666666,\"#ed7953\"],[0.7777777777777778,\"#fb9f3a\"],[0.8888888888888888,\"#fdca26\"],[1.0,\"#f0f921\"]],\"type\":\"heatmapgl\"}],\"heatmap\":[{\"colorbar\":{\"outlinewidth\":0,\"ticks\":\"\"},\"colorscale\":[[0.0,\"#0d0887\"],[0.1111111111111111,\"#46039f\"],[0.2222222222222222,\"#7201a8\"],[0.3333333333333333,\"#9c179e\"],[0.4444444444444444,\"#bd3786\"],[0.5555555555555556,\"#d8576b\"],[0.6666666666666666,\"#ed7953\"],[0.7777777777777778,\"#fb9f3a\"],[0.8888888888888888,\"#fdca26\"],[1.0,\"#f0f921\"]],\"type\":\"heatmap\"}],\"histogram2dcontour\":[{\"colorbar\":{\"outlinewidth\":0,\"ticks\":\"\"},\"colorscale\":[[0.0,\"#0d0887\"],[0.1111111111111111,\"#46039f\"],[0.2222222222222222,\"#7201a8\"],[0.3333333333333333,\"#9c179e\"],[0.4444444444444444,\"#bd3786\"],[0.5555555555555556,\"#d8576b\"],[0.6666666666666666,\"#ed7953\"],[0.7777777777777778,\"#fb9f3a\"],[0.8888888888888888,\"#fdca26\"],[1.0,\"#f0f921\"]],\"type\":\"histogram2dcontour\"}],\"histogram2d\":[{\"colorbar\":{\"outlinewidth\":0,\"ticks\":\"\"},\"colorscale\":[[0.0,\"#0d0887\"],[0.1111111111111111,\"#46039f\"],[0.2222222222222222,\"#7201a8\"],[0.3333333333333333,\"#9c179e\"],[0.4444444444444444,\"#bd3786\"],[0.5555555555555556,\"#d8576b\"],[0.6666666666666666,\"#ed7953\"],[0.7777777777777778,\"#fb9f3a\"],[0.8888888888888888,\"#fdca26\"],[1.0,\"#f0f921\"]],\"type\":\"histogram2d\"}],\"histogram\":[{\"marker\":{\"pattern\":{\"fillmode\":\"overlay\",\"size\":10,\"solidity\":0.2}},\"type\":\"histogram\"}],\"mesh3d\":[{\"colorbar\":{\"outlinewidth\":0,\"ticks\":\"\"},\"type\":\"mesh3d\"}],\"parcoords\":[{\"line\":{\"colorbar\":{\"outlinewidth\":0,\"ticks\":\"\"}},\"type\":\"parcoords\"}],\"pie\":[{\"automargin\":true,\"type\":\"pie\"}],\"scatter3d\":[{\"line\":{\"colorbar\":{\"outlinewidth\":0,\"ticks\":\"\"}},\"marker\":{\"colorbar\":{\"outlinewidth\":0,\"ticks\":\"\"}},\"type\":\"scatter3d\"}],\"scattercarpet\":[{\"marker\":{\"colorbar\":{\"outlinewidth\":0,\"ticks\":\"\"}},\"type\":\"scattercarpet\"}],\"scattergeo\":[{\"marker\":{\"colorbar\":{\"outlinewidth\":0,\"ticks\":\"\"}},\"type\":\"scattergeo\"}],\"scattergl\":[{\"marker\":{\"colorbar\":{\"outlinewidth\":0,\"ticks\":\"\"}},\"type\":\"scattergl\"}],\"scattermapbox\":[{\"marker\":{\"colorbar\":{\"outlinewidth\":0,\"ticks\":\"\"}},\"type\":\"scattermapbox\"}],\"scatterpolargl\":[{\"marker\":{\"colorbar\":{\"outlinewidth\":0,\"ticks\":\"\"}},\"type\":\"scatterpolargl\"}],\"scatterpolar\":[{\"marker\":{\"colorbar\":{\"outlinewidth\":0,\"ticks\":\"\"}},\"type\":\"scatterpolar\"}],\"scatter\":[{\"marker\":{\"colorbar\":{\"outlinewidth\":0,\"ticks\":\"\"}},\"type\":\"scatter\"}],\"scatterternary\":[{\"marker\":{\"colorbar\":{\"outlinewidth\":0,\"ticks\":\"\"}},\"type\":\"scatterternary\"}],\"surface\":[{\"colorbar\":{\"outlinewidth\":0,\"ticks\":\"\"},\"colorscale\":[[0.0,\"#0d0887\"],[0.1111111111111111,\"#46039f\"],[0.2222222222222222,\"#7201a8\"],[0.3333333333333333,\"#9c179e\"],[0.4444444444444444,\"#bd3786\"],[0.5555555555555556,\"#d8576b\"],[0.6666666666666666,\"#ed7953\"],[0.7777777777777778,\"#fb9f3a\"],[0.8888888888888888,\"#fdca26\"],[1.0,\"#f0f921\"]],\"type\":\"surface\"}],\"table\":[{\"cells\":{\"fill\":{\"color\":\"#EBF0F8\"},\"line\":{\"color\":\"white\"}},\"header\":{\"fill\":{\"color\":\"#C8D4E3\"},\"line\":{\"color\":\"white\"}},\"type\":\"table\"}]},\"layout\":{\"annotationdefaults\":{\"arrowcolor\":\"#2a3f5f\",\"arrowhead\":0,\"arrowwidth\":1},\"autotypenumbers\":\"strict\",\"coloraxis\":{\"colorbar\":{\"outlinewidth\":0,\"ticks\":\"\"}},\"colorscale\":{\"diverging\":[[0,\"#8e0152\"],[0.1,\"#c51b7d\"],[0.2,\"#de77ae\"],[0.3,\"#f1b6da\"],[0.4,\"#fde0ef\"],[0.5,\"#f7f7f7\"],[0.6,\"#e6f5d0\"],[0.7,\"#b8e186\"],[0.8,\"#7fbc41\"],[0.9,\"#4d9221\"],[1,\"#276419\"]],\"sequential\":[[0.0,\"#0d0887\"],[0.1111111111111111,\"#46039f\"],[0.2222222222222222,\"#7201a8\"],[0.3333333333333333,\"#9c179e\"],[0.4444444444444444,\"#bd3786\"],[0.5555555555555556,\"#d8576b\"],[0.6666666666666666,\"#ed7953\"],[0.7777777777777778,\"#fb9f3a\"],[0.8888888888888888,\"#fdca26\"],[1.0,\"#f0f921\"]],\"sequentialminus\":[[0.0,\"#0d0887\"],[0.1111111111111111,\"#46039f\"],[0.2222222222222222,\"#7201a8\"],[0.3333333333333333,\"#9c179e\"],[0.4444444444444444,\"#bd3786\"],[0.5555555555555556,\"#d8576b\"],[0.6666666666666666,\"#ed7953\"],[0.7777777777777778,\"#fb9f3a\"],[0.8888888888888888,\"#fdca26\"],[1.0,\"#f0f921\"]]},\"colorway\":[\"#636efa\",\"#EF553B\",\"#00cc96\",\"#ab63fa\",\"#FFA15A\",\"#19d3f3\",\"#FF6692\",\"#B6E880\",\"#FF97FF\",\"#FECB52\"],\"font\":{\"color\":\"#2a3f5f\"},\"geo\":{\"bgcolor\":\"white\",\"lakecolor\":\"white\",\"landcolor\":\"#E5ECF6\",\"showlakes\":true,\"showland\":true,\"subunitcolor\":\"white\"},\"hoverlabel\":{\"align\":\"left\"},\"hovermode\":\"closest\",\"mapbox\":{\"style\":\"light\"},\"paper_bgcolor\":\"white\",\"plot_bgcolor\":\"#E5ECF6\",\"polar\":{\"angularaxis\":{\"gridcolor\":\"white\",\"linecolor\":\"white\",\"ticks\":\"\"},\"bgcolor\":\"#E5ECF6\",\"radialaxis\":{\"gridcolor\":\"white\",\"linecolor\":\"white\",\"ticks\":\"\"}},\"scene\":{\"xaxis\":{\"backgroundcolor\":\"#E5ECF6\",\"gridcolor\":\"white\",\"gridwidth\":2,\"linecolor\":\"white\",\"showbackground\":true,\"ticks\":\"\",\"zerolinecolor\":\"white\"},\"yaxis\":{\"backgroundcolor\":\"#E5ECF6\",\"gridcolor\":\"white\",\"gridwidth\":2,\"linecolor\":\"white\",\"showbackground\":true,\"ticks\":\"\",\"zerolinecolor\":\"white\"},\"zaxis\":{\"backgroundcolor\":\"#E5ECF6\",\"gridcolor\":\"white\",\"gridwidth\":2,\"linecolor\":\"white\",\"showbackground\":true,\"ticks\":\"\",\"zerolinecolor\":\"white\"}},\"shapedefaults\":{\"line\":{\"color\":\"#2a3f5f\"}},\"ternary\":{\"aaxis\":{\"gridcolor\":\"white\",\"linecolor\":\"white\",\"ticks\":\"\"},\"baxis\":{\"gridcolor\":\"white\",\"linecolor\":\"white\",\"ticks\":\"\"},\"bgcolor\":\"#E5ECF6\",\"caxis\":{\"gridcolor\":\"white\",\"linecolor\":\"white\",\"ticks\":\"\"}},\"title\":{\"x\":0.05},\"xaxis\":{\"automargin\":true,\"gridcolor\":\"white\",\"linecolor\":\"white\",\"ticks\":\"\",\"title\":{\"standoff\":15},\"zerolinecolor\":\"white\",\"zerolinewidth\":2},\"yaxis\":{\"automargin\":true,\"gridcolor\":\"white\",\"linecolor\":\"white\",\"ticks\":\"\",\"title\":{\"standoff\":15},\"zerolinecolor\":\"white\",\"zerolinewidth\":2}}},\"xaxis\":{\"anchor\":\"y\",\"domain\":[0.0,0.45],\"title\":{\"text\":\"Epoch\"}},\"yaxis\":{\"anchor\":\"x\",\"domain\":[0.0,1.0],\"range\":[0,1],\"title\":{\"text\":\"Accuracy\"}},\"xaxis2\":{\"anchor\":\"y2\",\"domain\":[0.55,1.0],\"title\":{\"text\":\"Epoch\"}},\"yaxis2\":{\"anchor\":\"x2\",\"domain\":[0.0,1.0],\"range\":[0,1],\"title\":{\"text\":\"Loss\"}}},                        {\"responsive\": true}                    ).then(function(){\n",
       "                            \n",
       "var gd = document.getElementById('57372647-7cb8-4663-866c-44e5a7e25891');\n",
       "var x = new MutationObserver(function (mutations, observer) {{\n",
       "        var display = window.getComputedStyle(gd).display;\n",
       "        if (!display || display === 'none') {{\n",
       "            console.log([gd, 'removed!']);\n",
       "            Plotly.purge(gd);\n",
       "            observer.disconnect();\n",
       "        }}\n",
       "}});\n",
       "\n",
       "// Listen for the removal of the full notebook cells\n",
       "var notebookContainer = gd.closest('#notebook-container');\n",
       "if (notebookContainer) {{\n",
       "    x.observe(notebookContainer, {childList: true});\n",
       "}}\n",
       "\n",
       "// Listen for the clearing of the current output cell\n",
       "var outputEl = gd.closest('.output');\n",
       "if (outputEl) {{\n",
       "    x.observe(outputEl, {childList: true});\n",
       "}}\n",
       "\n",
       "                        })                };                });            </script>        </div>"
      ]
     },
     "metadata": {},
     "output_type": "display_data"
    }
   ],
   "source": [
    "def create_trace(x,y,ylabel,color):\n",
    "        trace = go.Scatter(\n",
    "            x = x,y = y,\n",
    "            name=ylabel,\n",
    "            marker=dict(color=color),\n",
    "            mode = \"markers+lines\",\n",
    "            text=x\n",
    "        )\n",
    "        return trace\n",
    "        \n",
    "def plot_accuracy_and_loss(train_model):\n",
    "    hist = train_model.history\n",
    "    acc = hist['accuracy']\n",
    "    val_acc = hist['val_accuracy']\n",
    "    loss = hist['loss']\n",
    "    val_loss = hist['val_loss']\n",
    "    epochs = list(range(1,len(acc)+1))\n",
    "    \n",
    "    trace_ta = create_trace(epochs,acc,\"Training accuracy\", \"Green\")\n",
    "    trace_va = create_trace(epochs,val_acc,\"Validation accuracy\", \"Red\")\n",
    "    trace_tl = create_trace(epochs,loss,\"Training loss\", \"Blue\")\n",
    "    trace_vl = create_trace(epochs,val_loss,\"Validation loss\", \"Magenta\")\n",
    "   \n",
    "    fig = make_subplots(rows=1,cols=2, subplot_titles=('Training and validation accuracy',\n",
    "                                                             'Training and validation loss'))\n",
    "    fig.append_trace(trace_ta,1,1)\n",
    "    fig.append_trace(trace_va,1,1)\n",
    "    fig.append_trace(trace_tl,1,2)\n",
    "    fig.append_trace(trace_vl,1,2)\n",
    "    fig['layout']['xaxis'].update(title = 'Epoch')\n",
    "    fig['layout']['xaxis2'].update(title = 'Epoch')\n",
    "    fig['layout']['yaxis'].update(title = 'Accuracy', range=[0,1])\n",
    "    fig['layout']['yaxis2'].update(title = 'Loss', range=[0,1])\n",
    "\n",
    "    plotly.offline.iplot(fig, filename='accuracy-loss')\n",
    "plot_accuracy_and_loss(hist)"
   ]
  },
  {
   "cell_type": "code",
   "execution_count": 145,
   "id": "9fa723c8",
   "metadata": {},
   "outputs": [
    {
     "name": "stdout",
     "output_type": "stream",
     "text": [
      "Accuracy: 0.872730\n",
      "Precision: 0.859252\n",
      "Recall: 0.891525\n",
      "F1 score: 0.875091\n"
     ]
    }
   ],
   "source": [
    "from sklearn.metrics import confusion_matrix, classification_report, precision_score, recall_score, f1_score, accuracy_score\n",
    "# accuracy: (tp + tn) / (p + n)\n",
    "accuracy = accuracy_score(y_true, predicted_classes)\n",
    "print('Accuracy: %f' % accuracy)\n",
    "# precision tp / (tp + fp)\n",
    "precision = precision_score(y_true, predicted_classes)\n",
    "print('Precision: %f' % precision)\n",
    "# recall: tp / (tp + fn)\n",
    "recall = recall_score(y_true, predicted_classes)\n",
    "print('Recall: %f' % recall)\n",
    "# f1: 2 tp / (2 tp + fp + fn)\n",
    "f1 = f1_score(y_true, predicted_classes)\n",
    "print('F1 score: %f' % f1)"
   ]
  },
  {
   "cell_type": "code",
   "execution_count": 146,
   "id": "bafa4ccb",
   "metadata": {},
   "outputs": [
    {
     "data": {
      "image/png": "[encoded data removed]",
      "text/plain": [
       "<Figure size 432x288 with 1 Axes>"
      ]
     },
     "metadata": {
      "needs_background": "light"
     },
     "output_type": "display_data"
    }
   ],
   "source": [
    "from sklearn.metrics import roc_curve, auc\n",
    "fpr, tpr, thresholds = roc_curve(y_true, predicted_classes)\n",
    "roc_auc = auc(fpr, tpr)\n",
    "plt.figure()\n",
    "plt.plot(fpr, tpr, color='darkorange', lw=1, label='ROC curve (area = %0.2f)' % roc_auc)\n",
    "plt.xlim([0.0, 1.0])\n",
    "plt.ylim([0.0, 1.05])\n",
    "plt.xlabel('False Positive Rate')\n",
    "plt.ylabel('True Positive Rate')\n",
    "plt.title('LSTM ROC CURVE')\n",
    "plt.legend(loc=\"lower right\")\n",
    "plt.show()"
   ]
  },
  {
   "cell_type": "code",
   "execution_count": 147,
   "id": "840093db",
   "metadata": {},
   "outputs": [
    {
     "data": {
      "image/png": "[encoded data removed]",
      "text/plain": [
       "<Figure size 720x720 with 2 Axes>"
      ]
     },
     "metadata": {
      "needs_background": "light"
     },
     "output_type": "display_data"
    }
   ],
   "source": [
    "def display_training_curves(training, validation, title, subplot):\n",
    "  ax = plt.subplot(subplot)\n",
    "  ax.plot(training)\n",
    "  ax.plot(validation)\n",
    "  ax.set_title('model '+ title)\n",
    "  ax.set_ylabel(title)\n",
    "  ax.set_xlabel('epoch')\n",
    "  ax.legend(['training', 'validation'])\n",
    "\n",
    "plt.subplots(figsize=(10,10))\n",
    "plt.tight_layout()\n",
    "display_training_curves(his['accuracy'], his['val_accuracy'], 'accuracy', 211)\n",
    "display_training_curves(his['loss'], his['val_loss'], 'loss', 212)"
   ]
  }
 ],
 "metadata": {
  "kernelspec": {
   "display_name": "Python 3 (ipykernel)",
   "language": "python",
   "name": "python3"
  },
  "language_info": {
   "codemirror_mode": {
    "name": "ipython",
    "version": 3
   },
   "file_extension": ".py",
   "mimetype": "text/x-python",
   "name": "python",
   "nbconvert_exporter": "python",
   "pygments_lexer": "ipython3",
   "version": "3.9.5"
  },
  "varInspector": {
   "cols": {
    "lenName": 16,
    "lenType": 16,
    "lenVar": 40
   },
   "kernels_config": {
    "python": {
     "delete_cmd_postfix": "",
     "delete_cmd_prefix": "del ",
     "library": "var_list.py",
     "varRefreshCmd": "print(var_dic_list())"
    },
    "r": {
     "delete_cmd_postfix": ") ",
     "delete_cmd_prefix": "rm(",
     "library": "var_list.r",
     "varRefreshCmd": "cat(var_dic_list()) "
    }
   },
   "types_to_exclude": [
    "module",
    "function",
    "builtin_function_or_method",
    "instance",
    "_Feature"
   ],
   "window_display": false
  }
 },
 "nbformat": 4,
 "nbformat_minor": 5
}
